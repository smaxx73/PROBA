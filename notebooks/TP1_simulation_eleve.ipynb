{
 "cells": [
  {
   "cell_type": "markdown",
   "metadata": {},
   "source": [
    "### ESM2 SDI - cours de PROBA 2019\n",
    "\n",
    "----------\n",
    "<center><h1 style=\"background-color:#c0cfc0;height:50px\"> TP1 : Densité et simulation de lois </h1> </center>\n",
    "\n",
    "----------"
   ]
  },
  {
   "cell_type": "markdown",
   "metadata": {},
   "source": [
    "**Q0:** Exécuter les deux cellules ci-dessous afin de charger la librairie \"pylab\" et fixer les paramètres d'affichage."
   ]
  },
  {
   "cell_type": "code",
   "execution_count": null,
   "metadata": {},
   "outputs": [],
   "source": [
    "from pylab import *"
   ]
  },
  {
   "cell_type": "code",
   "execution_count": null,
   "metadata": {},
   "outputs": [],
   "source": [
    "rcParams['figure.figsize'] = (12,8) #on fixe la taille des figures qui seront générées dans ce notebook"
   ]
  },
  {
   "cell_type": "markdown",
   "metadata": {},
   "source": [
    "## 1. Densités et fonctions de répartition de variables aléatoires"
   ]
  },
  {
   "cell_type": "markdown",
   "metadata": {},
   "source": [
    "### 1.1 Quelques variables aléatoires continues"
   ]
  },
  {
   "cell_type": "markdown",
   "metadata": {},
   "source": [
    "**Q01:** Compléter le code suivant permettant de représenter graphiquement les fonctions densités d'une loi uniforme $\\mathcal{U}([a;b])$, d'une loi normale $\\mathcal{N}(\\mu,\\sigma)$."
   ]
  },
  {
   "cell_type": "code",
   "execution_count": null,
   "metadata": {},
   "outputs": [],
   "source": [
    "def duniforme(x,a,b):\n",
    "    if ...:\n",
    "        y=...\n",
    "    else:\n",
    "        y=...\n",
    "    return y\n",
    "\n",
    "def dnormale(x,mu,sigma):\n",
    "    y=...\n",
    "    return y"
   ]
  },
  {
   "cell_type": "code",
   "execution_count": null,
   "metadata": {},
   "outputs": [],
   "source": [
    "min = -5\n",
    "max = +5\n",
    "dx = 1e-3\n",
    "grid = arange(min,max,dx)"
   ]
  },
  {
   "cell_type": "code",
   "execution_count": null,
   "metadata": {},
   "outputs": [],
   "source": [
    "plot(grid, [duniforme(x,-2,2) for x in grid],linewidth=4)\n",
    "plot(grid, [dnormale(x,1,1) for x in grid],linewidth=4,color='green')\n",
    "legend(['loi uniforme sur [-2;2]','loi normale N(1,1)'])\n",
    "show()"
   ]
  },
  {
   "cell_type": "markdown",
   "metadata": {},
   "source": [
    "**Q02:** Tracer sur un même graphique la fonction densité d'une loi exponentielle $\\mathcal{E}(1/2)$ et sa fonction de répartition."
   ]
  },
  {
   "cell_type": "code",
   "execution_count": null,
   "metadata": {},
   "outputs": [],
   "source": [
    "def dexponentielle(x,la):\n",
    "    ...\n",
    "    return y\n",
    "\n",
    "def rexponentielle(x,la):\n",
    "    ...\n",
    "    return y"
   ]
  },
  {
   "cell_type": "code",
   "execution_count": null,
   "metadata": {},
   "outputs": [],
   "source": [
    "min = -2\n",
    "max = +8\n",
    "dx = 1e-3\n",
    "grid = arange(..., ...,...)\n",
    "grid1= arange(..., ...,...)\n",
    "grid2= arange(..., ...,...)\n",
    "plot(grid1, [dexponentielle(x,0.5) for x in grid1],color='red',linewidth=4) #on affiche la densité par morceaux\n",
    "plot(grid2, [dexponentielle(x,0.5) for x in grid2],color='red',linewidth=4) #on affiche la densité par morceaux\n",
    "plot(grid, [rexponentielle(x,0.5) for x in grid],color='orange')\n",
    "legend(['densité $\\mathcal{E}(1/2)$','fonction de répartition $\\mathcal{E}(1/2)$'])\n",
    "show()"
   ]
  },
  {
   "cell_type": "markdown",
   "metadata": {},
   "source": [
    "**Q03:** Tracer sur un même graphique la fonction densité d'une loi normale $\\mathcal{N}(1,2)$ et sa fonction de répartition, puis faire de même pour une loi normale $\\mathcal{N}(1,1/2)$."
   ]
  },
  {
   "cell_type": "code",
   "execution_count": null,
   "metadata": {},
   "outputs": [],
   "source": [
    "from scipy.stats import norm"
   ]
  },
  {
   "cell_type": "code",
   "execution_count": null,
   "metadata": {},
   "outputs": [],
   "source": [
    "rcParams['figure.figsize'] = (18,8)"
   ]
  },
  {
   "cell_type": "code",
   "execution_count": null,
   "metadata": {},
   "outputs": [],
   "source": [
    "min = -7\n",
    "max = +8\n",
    "dx = 1e-3\n",
    "grid = arange(min,max,dx)\n",
    "\n",
    "subplot(1,2,1)\n",
    "sigma=2\n",
    "plot(grid, [dnormale(x,1,sigma) for x in grid],color='red',linewidth=4)\n",
    "plot(grid,norm.cdf(grid,1,sigma),color='orange')\n",
    "legend(['densité','fonction de répartition'])\n",
    "title('Loi normale ${N}(1,2)$')\n",
    "subplot(1,2,2)\n",
    "sigma=0.5\n",
    "plot(grid, [dnormale(x,1,sigma) for x in grid],color='red',linewidth=4)\n",
    "plot(grid,norm.cdf(grid,1,sigma),color='orange')\n",
    "legend(['densité','fonction de répartition'])\n",
    "title('Loi normale ${N}(1,0.5)$')\n",
    "show()"
   ]
  },
  {
   "cell_type": "code",
   "execution_count": null,
   "metadata": {},
   "outputs": [],
   "source": [
    "from ipywidgets import interact, interactive, fixed, interact_manual\n",
    "import ipywidgets as widgets"
   ]
  },
  {
   "cell_type": "code",
   "execution_count": null,
   "metadata": {},
   "outputs": [],
   "source": [
    "def normales(m,s):\n",
    "    plot(grid, [dnormale(x,m,s) for x in grid],color='red',linewidth=4)\n",
    "    plot(grid,norm.cdf(grid,m,s),color='orange')\n",
    "    legend(['densité','fonction de répartition'])\n",
    "    title('Loi normale ${N}(1,2)$')\n",
    "    show()"
   ]
  },
  {
   "cell_type": "code",
   "execution_count": null,
   "metadata": {},
   "outputs": [],
   "source": [
    "interact(normales,m=(-4,4),s=(0.1,1.5))"
   ]
  },
  {
   "cell_type": "markdown",
   "metadata": {},
   "source": [
    "### 1.2 Quelques variables aléatoires discrètes"
   ]
  },
  {
   "cell_type": "markdown",
   "metadata": {},
   "source": [
    "On calcule un coefficient binomial à l'aide de la librairie scipy.special et de la fonction binom() :\n"
   ]
  },
  {
   "cell_type": "code",
   "execution_count": null,
   "metadata": {},
   "outputs": [],
   "source": [
    "import scipy.special"
   ]
  },
  {
   "cell_type": "markdown",
   "metadata": {},
   "source": [
    "**Q04:** A l'aide du programme suivant, calculer $\\binom{100}{27}$."
   ]
  },
  {
   "cell_type": "code",
   "execution_count": null,
   "metadata": {},
   "outputs": [],
   "source": [
    "n=...\n",
    "k=...\n",
    "print(long(scipy.special.binom(n,k)))"
   ]
  },
  {
   "cell_type": "markdown",
   "metadata": {},
   "source": [
    "**Q05:** Compléter le programme suivant afin de représenter graphiquement une loi binomiale $\\mathcal{B}(n,p)$, et afin d'afficher l'espérance et la variance."
   ]
  },
  {
   "cell_type": "code",
   "execution_count": null,
   "metadata": {},
   "outputs": [],
   "source": [
    "p=0.4\n",
    "n=40\n",
    "binomiale=[]\n",
    "for k in range(...):\n",
    "    pr1=...\n",
    "    binomiale.append(pr1)"
   ]
  },
  {
   "cell_type": "code",
   "execution_count": null,
   "metadata": {},
   "outputs": [],
   "source": [
    "min = 0\n",
    "max = n\n",
    "bar(range(min,max),binomiale[min:max],0.5)\n",
    "title('loi binomiale B({},{})'.format(n,p))\n",
    "show()\n",
    "esp = ...\n",
    "var = ...\n",
    "print('Espérance = '+str(esp))\n",
    "print('Variance = '+str(var))"
   ]
  },
  {
   "cell_type": "markdown",
   "metadata": {},
   "source": [
    "**Q06:** Compléter le programme suivant afin de représenter graphiquement une loi géométrique $\\mathcal{G}(p)$."
   ]
  },
  {
   "cell_type": "code",
   "execution_count": null,
   "metadata": {},
   "outputs": [],
   "source": [
    "p=0.4\n",
    "stop = 30\n",
    "geometrique=[]\n",
    "for k in range(1,stop):\n",
    "    pr1=...\n",
    "    geometrique.append(pr1)"
   ]
  },
  {
   "cell_type": "code",
   "execution_count": null,
   "metadata": {},
   "outputs": [],
   "source": [
    "min = 1\n",
    "max = stop\n",
    "bar(range(min+1,max+1),geometrique[0:max-1],0.5)\n",
    "title('loi géométrique G({})'.format(p))\n",
    "show()\n"
   ]
  },
  {
   "cell_type": "markdown",
   "metadata": {},
   "source": [
    "**Q07:** Modifier le programme précédent afin d'afficher uniquement les probabilités supérieures à $10^{-3}$"
   ]
  },
  {
   "cell_type": "code",
   "execution_count": null,
   "metadata": {},
   "outputs": [],
   "source": [
    "eps=1e-3\n",
    "p=0.4\n",
    "geometrique=[p]\n",
    "k=2\n",
    "while ...>eps:\n",
    "    pr1=...\n",
    "    k=k+1\n",
    "    geometrique.append(pr1)"
   ]
  },
  {
   "cell_type": "code",
   "execution_count": null,
   "metadata": {},
   "outputs": [],
   "source": [
    "min = 1\n",
    "max = k\n",
    "bar(range(min,max),geometrique[min-1:max-1],0.5)\n",
    "title('loi géométrique G({})'.format(p))\n",
    "show()"
   ]
  },
  {
   "cell_type": "markdown",
   "metadata": {},
   "source": [
    "**Q08:** Représenter graphiquement une loi géométrique et sa fonction de répartition."
   ]
  },
  {
   "cell_type": "code",
   "execution_count": null,
   "metadata": {},
   "outputs": [],
   "source": [
    "eps=1e-3\n",
    "p=0.4\n",
    "geometrique=[p]\n",
    "cgeometrique=[0,p]\n",
    "k=2\n",
    "while geometrique[-1]>eps:\n",
    "    pr1=p*(1-p)**(k-1)\n",
    "    k=k+1\n",
    "    geometrique.append(pr1)\n",
    "    cgeometrique.append(cgeometrique[-1]+...)"
   ]
  },
  {
   "cell_type": "code",
   "execution_count": null,
   "metadata": {},
   "outputs": [],
   "source": [
    "min = 1\n",
    "max = k\n",
    "bar(range(min,max),geometrique[min-1:max-1],0.5)\n",
    "step(range(min-1,max),cgeometrique[min-1:max],where='post',color='orange',linewidth=4)\n",
    "title('loi géométrique G({})'.format(p))\n",
    "legend(['loi','fonction de répartition'])\n",
    "show()"
   ]
  },
  {
   "cell_type": "markdown",
   "metadata": {},
   "source": [
    "## 2. Simulation de lois"
   ]
  },
  {
   "cell_type": "markdown",
   "metadata": {},
   "source": [
    "### 2.1 Générateur uniforme"
   ]
  },
  {
   "cell_type": "markdown",
   "metadata": {},
   "source": [
    "Le but d'un générateur uniforme est de fournir un nombre entre $0$ et $1$ qui simule une réalisation d'une variable aléatoire suivant une loi uniforme sur l'intervalle $[0;1]$. Le principe d'un générateur aléatoire est le suivant : on part d'une valeur initiale $x_0$ appellée \"graine\" (ou \"seed\" en anglais) et on lui applique une relation de récurrence qui permet de générer une suite $(x_n)$. C'est une démarche déterministe mais cette suite doit passer un certain nombre de tests statistiques qui vérifie l'équirépartition des valeurs de la suite sur l'intervalle $[0;1]$. \n",
    "\n",
    "Un tel générateur est présent dans tous les langages de programmation (souvent appelé rand, random...). Il est indispensable pour simuler d'autres lois de probabilité. "
   ]
  },
  {
   "cell_type": "markdown",
   "metadata": {},
   "source": [
    "**Q09:** Exécuter la fonction rand() quatre fois d'affilée, sans fixer de graine. Recommencer l'opération. Qu'observe-t-on ?"
   ]
  },
  {
   "cell_type": "code",
   "execution_count": null,
   "metadata": {},
   "outputs": [],
   "source": [
    "print(\"\\n On lance 4 fois le générateur sans fixer de graine : \")\n",
    "..."
   ]
  },
  {
   "cell_type": "code",
   "execution_count": null,
   "metadata": {},
   "outputs": [],
   "source": [
    "print(\"\\n On relance 4 fois le générateur sans fixer de graine : \")\n",
    "..."
   ]
  },
  {
   "cell_type": "markdown",
   "metadata": {},
   "source": [
    "**Q10:** Fixer une graine à 1 puis exécuter la fonction rand() quatre fois d'affilée. Recommencer l'opération. Qu'observe-t-on ?"
   ]
  },
  {
   "cell_type": "code",
   "execution_count": null,
   "metadata": {},
   "outputs": [],
   "source": [
    "print(\"\\n On fixe une graine : \")\n",
    "seed(seed=1)\n",
    "print(rand())\n",
    "print(rand())\n",
    "print(rand())\n",
    "print(rand())\n",
    "print(\"\\n On reprend la même graine : \")\n",
    "seed(seed=1)\n",
    "print(rand())\n",
    "print(rand())\n",
    "print(rand())\n",
    "print(rand())"
   ]
  },
  {
   "cell_type": "markdown",
   "metadata": {},
   "source": [
    "Un générateur fréquemment utilisé est celui de Lehmer (1948). La suite se construit selon la formule de récurrence suivante : \n",
    "\n",
    "$$\\begin{cases} x_0 &=& 47594118 \\\\ x_{n+1} &\\equiv & 23x_n \\pmod{(10^8+1)} \\end{cases}$$\n",
    "\n",
    "Le principe est de générer un entier $n$ compris entre $0$ et $10^8$ puis de considérer $\\frac{n}{10^8} \\in [0;1]$."
   ]
  },
  {
   "cell_type": "markdown",
   "metadata": {},
   "source": [
    "**Q11:** Afficher les dix premiers termes de la suite construite par le générateur de Lehmer. On rappelle que la commande $\\texttt{a%b}$ permet de calculer $a$ modulo $b$."
   ]
  },
  {
   "cell_type": "code",
   "execution_count": null,
   "metadata": {},
   "outputs": [],
   "source": [
    "x=47594118\n",
    "n=10\n",
    "m=10**8\n",
    "for i in range(n):\n",
    "    ...\n",
    "    print(y)"
   ]
  },
  {
   "cell_type": "markdown",
   "metadata": {},
   "source": [
    "**Q12:** Générer les 10000 premiers termes de la suite de Lehmer et représenter la distribution des résultats à l'aide d'un histogramme. La distribution vous semble-t-elle uniforme sur $[0;1]$ ?"
   ]
  },
  {
   "cell_type": "code",
   "execution_count": null,
   "metadata": {},
   "outputs": [],
   "source": [
    "x=47594118\n",
    "n=10000      #Nombre de tirages aléatoires\n",
    "m=10**8\n",
    "Y=[x/m]\n",
    "for i in range(n):\n",
    "    ...\n",
    "    Y.append(y)\n",
    "P=hist(Y)"
   ]
  },
  {
   "cell_type": "markdown",
   "metadata": {},
   "source": [
    "Voici un modèle plus général de générateur : $$\\begin{cases} x_0 &=& ... \\\\ x_{n+1} &\\equiv & ax_n +c \\pmod{m} \\end{cases}$$\n",
    "\n",
    "Le générateur de Robert Sedgewick est basé sur les valeurs suivantes : $a=31415821$, $c=1$, $m=10^8$."
   ]
  },
  {
   "cell_type": "markdown",
   "metadata": {},
   "source": [
    "**Q13:** Générer les 10000 premiers termes de la suite de Sedgewick et représenter la distribution des résultats à l'aide d'un histogramme. La distribution vous semble-t-elle uniforme sur $[0;1]$ ?"
   ]
  },
  {
   "cell_type": "code",
   "execution_count": null,
   "metadata": {},
   "outputs": [],
   "source": [
    "x=4759411\n",
    "n=10000\n",
    "m=10**8\n",
    "a=31415821\n",
    "c=1\n",
    "Y=[x/m]\n",
    "for i in range(n):\n",
    "    x=...\n",
    "    y=x/m\n",
    "    Y.append(y)\n",
    "P=hist(Y)"
   ]
  },
  {
   "cell_type": "markdown",
   "metadata": {},
   "source": [
    "#### **Pour traiter les questions suivantes, on se limitera à l'utilisation de la fonction rand() de la librairie de Python.**"
   ]
  },
  {
   "cell_type": "markdown",
   "metadata": {},
   "source": [
    "### 2.2 Simulation d'une loi uniforme sur $[a;b]$."
   ]
  },
  {
   "cell_type": "markdown",
   "metadata": {},
   "source": [
    "**Q14:** Simuler un tirage aléatoire selon une loi uniforme sur $[0;3]$ et afficher 10 résultats."
   ]
  },
  {
   "cell_type": "code",
   "execution_count": null,
   "metadata": {},
   "outputs": [],
   "source": [
    "for i in range(10):\n",
    "    ...\n",
    "    print(...)"
   ]
  },
  {
   "cell_type": "markdown",
   "metadata": {},
   "source": [
    "**Q15:** Simuler un tirage aléatoire selon une loi uniforme sur $[-1;1]$ et afficher 10 résultats."
   ]
  },
  {
   "cell_type": "code",
   "execution_count": null,
   "metadata": {},
   "outputs": [],
   "source": [
    "for i in range(10):\n",
    "    print(...)"
   ]
  },
  {
   "cell_type": "markdown",
   "metadata": {},
   "source": [
    "**Q16:** Ecrire une fonction permettant de simuler un tirage aléatoire selon une loi uniforme sur $[a;b]$."
   ]
  },
  {
   "cell_type": "code",
   "execution_count": null,
   "metadata": {},
   "outputs": [],
   "source": [
    "def Uniforme(a,b):\n",
    "    y=...\n",
    "    return y"
   ]
  },
  {
   "cell_type": "code",
   "execution_count": null,
   "metadata": {},
   "outputs": [],
   "source": [
    "for i in range(10):\n",
    "    print(Uniforme(100,110))"
   ]
  },
  {
   "cell_type": "markdown",
   "metadata": {},
   "source": [
    "### 2.3 Simulation d'une loi binomiale"
   ]
  },
  {
   "cell_type": "markdown",
   "metadata": {},
   "source": [
    "**Q17:** Toujours à l'aide de la fonction rand(), écrire une fonction permettant de simuler un tirage aléatoire selon une loi de Bernoulli $\\mathcal{B}(p)$."
   ]
  },
  {
   "cell_type": "code",
   "execution_count": null,
   "metadata": {},
   "outputs": [],
   "source": [
    "def Bernoulli(p):\n",
    "    U=rand()\n",
    "    ..."
   ]
  },
  {
   "cell_type": "code",
   "execution_count": null,
   "metadata": {},
   "outputs": [],
   "source": [
    "p=0.2\n",
    "for i in range(10):\n",
    "    print(Bernoulli(p))"
   ]
  },
  {
   "cell_type": "markdown",
   "metadata": {},
   "source": [
    "**Q18:** Ecrire une fonction permettant de simuler un tirage aléatoire selon une loi binomiale $\\mathcal{B}(n,p)$."
   ]
  },
  {
   "cell_type": "code",
   "execution_count": null,
   "metadata": {},
   "outputs": [],
   "source": [
    "def Binomiale(n,p):\n",
    "    ...\n",
    "    return S"
   ]
  },
  {
   "cell_type": "markdown",
   "metadata": {},
   "source": [
    "**Q19:** Ecrire un programme permettant de calculer la moyenne des résultats obtenus sur 1000 simulations d'une loi binomiale $\\mathcal{B}(50,0.2)$ et interpréter le résultat."
   ]
  },
  {
   "cell_type": "code",
   "execution_count": null,
   "metadata": {},
   "outputs": [],
   "source": [
    "N=1000\n",
    "n=50\n",
    "p=0.2\n",
    "S=...\n",
    "for i in range(N):\n",
    "    ...\n",
    "\n",
    "print(...)"
   ]
  },
  {
   "cell_type": "markdown",
   "metadata": {},
   "source": [
    "### 2.4 Simulation par inversion de la fonction de répartition"
   ]
  },
  {
   "cell_type": "markdown",
   "metadata": {},
   "source": [
    "**Q20:** Soit $U$ une variable aléatoire suivant une loi uniforme sur l'intervalle $[0;1]$ et $\\lambda >0$. Soit la variable aléatoire $V=-\\frac{1}{\\lambda}\\ln(U)$. Quelle est la loi suivie par $V$ ? "
   ]
  },
  {
   "cell_type": "markdown",
   "metadata": {},
   "source": [
    "<p style=\"color:#d50000 \"> Soit $h$ une fonction ...\n",
    "    \n",
    "    \n",
    "    \n",
    "    \n",
    "    \n",
    "    </p>"
   ]
  },
  {
   "cell_type": "markdown",
   "metadata": {},
   "source": [
    "**Q21:** Ecrire un programme qui simule une loi exponentielle $\\mathcal{E}(\\lambda)$."
   ]
  },
  {
   "cell_type": "code",
   "execution_count": null,
   "metadata": {},
   "outputs": [],
   "source": [
    "def Exponentielle(la):\n",
    "    U=rand()\n",
    "    ...\n",
    "    return ..."
   ]
  },
  {
   "cell_type": "markdown",
   "metadata": {},
   "source": [
    "Tester la fonction en réalisant 5 simulations d'une loi $\\mathcal{E}(2)$ :"
   ]
  },
  {
   "cell_type": "code",
   "execution_count": null,
   "metadata": {},
   "outputs": [],
   "source": [
    "for i in range(5):\n",
    "    print(...)"
   ]
  },
  {
   "cell_type": "markdown",
   "metadata": {},
   "source": [
    "On rappelle le théorème suivant :\n",
    "\n",
    "**Théorème :** Soit $X$ une variable aléatoire. On suppose que sa fonction de répartition $F$ est strictement croissante ($F$ est donc bijective de $\\mathbb{R}$ sur $]0;1[$) et on peut noter $F^{-1}$ sa fonction réciproque. Soit $U$ une variable aléatoire suivant une loi uniforme sur l'intervalle $[0;1]$. Alors la variable aléatoire $F^{-1}(U)$ suit la même loi que $X$.\n",
    "\n"
   ]
  },
  {
   "cell_type": "markdown",
   "metadata": {},
   "source": [
    "Si $F$ n'est pas strictement croissante, le théorème précédent reste valable à condition de définir $F^{-1}(u) = \\inf \\{x \\in \\mathbb{R} \\, , \\, F(x) \\geq u  \\}$."
   ]
  },
  {
   "cell_type": "markdown",
   "metadata": {},
   "source": [
    "**Q22:** En utilisant ce théorème, écrire une fonction Cauchy() permettant de simuler une variable aléatoire de Cauchy de paramètre 1. \n",
    "\n",
    "On rappelle qu'une densité d'une variable de Cauchy de paramètre $\\lambda$ est \n",
    "$$f_X(x)=\\dfrac{1}{\\pi} \\dfrac{\\lambda}{\\lambda^2+x^2}$$"
   ]
  },
  {
   "cell_type": "markdown",
   "metadata": {},
   "source": [
    "\n",
    "\n",
    "\n",
    "\n",
    "\n",
    "\n",
    "\n",
    "\n",
    "\n"
   ]
  },
  {
   "cell_type": "code",
   "execution_count": null,
   "metadata": {},
   "outputs": [],
   "source": [
    "def Cauchy():\n",
    "    U=rand()\n",
    "    y=...\n",
    "    return y\n",
    "print(Cauchy())"
   ]
  },
  {
   "cell_type": "markdown",
   "metadata": {},
   "source": [
    "**Q23:** Superposer sur un même graphique la densité d'une loi de Cauchy de paramètre 1 et l'histogramme des distribution "
   ]
  },
  {
   "cell_type": "code",
   "execution_count": null,
   "metadata": {},
   "outputs": [],
   "source": [
    "N=1000\n",
    "Y=[]\n",
    "max=20\n",
    "for i in range(N):\n",
    "    Y.append(Cauchy())\n",
    "Y = [x for x in Y if abs(x)<max]      #simulations de la loi de Cauchy (tronquées à 20 pour ne pas perturber l'affichage)\n",
    "hist(Y,bins=50, density=1)            #histogramme de la distribution des simulations\n",
    "X=linspace(-max, max, N)\n",
    "P=plot(X,...,linewidth=6,color=\"red\") #densité de la loi de Cauchy ed paramètre 1\n",
    "legend(['densité théorique','distribution de la simulation'])\n",
    "show()"
   ]
  },
  {
   "cell_type": "markdown",
   "metadata": {},
   "source": [
    "### 2.5 Simulation d'une loi normale"
   ]
  },
  {
   "cell_type": "markdown",
   "metadata": {},
   "source": [
    "On tire sur une cible munie d'un repère orthonormé centrée sur son origine $O$. On note $(X,Y)$ les coordonnées cartésiennes d'un tir. On remarque que lorsque le tireur vise le centre de la cible, la loi suivie par $(X,Y)$ admet une densité \n",
    "\n",
    "$$f(x,y)=\\dfrac{1}{2\\pi} e^{\\frac{-x^2-y^2}{2}}$$\n",
    "\n",
    "On note $R$ la distance entre le point d'impact et le point visé. "
   ]
  },
  {
   "cell_type": "markdown",
   "metadata": {},
   "source": [
    "On donne les résultats suivants, démontrés en exercice : \n",
    "- Les variables $X$ et $Y$ sont indépendantes suivant chacune une loi normale centrée réduite.\n",
    "- La loi suivie par la variable aléatoire  $R$ admet pour densité $f_R(r) = r e^{-r^2/2}1_{\\mathbb{R}_+} $ (loi de Rayleigh). La variable $R^2$ suit une loi exponentielle $\\mathcal{E}(1/2)$.\n",
    "- Si $\\Theta$ est la variable aléatoire telle que $X=R\\cos(\\Theta)$, $Y=R\\sin(\\Theta)$, alors $\\Theta$ suit une loi uniforme sur l'intervalle $[0;2\\pi]$"
   ]
  },
  {
   "cell_type": "markdown",
   "metadata": {},
   "source": [
    "**Q24:** En déduire une simulation de la loi du couple $(X,Y)$."
   ]
  },
  {
   "cell_type": "code",
   "execution_count": null,
   "metadata": {},
   "outputs": [],
   "source": [
    "def Normale2():\n",
    "    theta = ...\n",
    "    r = ...\n",
    "    return r*cos(theta),r*sin(theta)"
   ]
  },
  {
   "cell_type": "code",
   "execution_count": null,
   "metadata": {},
   "outputs": [],
   "source": [
    "N=200\n",
    "box=4\n",
    "X=[]\n",
    "Y=[]\n",
    "for i in range(N):\n",
    "    simu = Normale2()\n",
    "    X.append(simu[0])\n",
    "    Y.append(simu[1])\n",
    "    \n",
    "graphique = scatter(X,Y,marker='x')\n",
    "axis([-box,box,-box,box])\n",
    "gca().set_aspect('equal', adjustable='box')\n",
    "show()"
   ]
  },
  {
   "cell_type": "markdown",
   "metadata": {},
   "source": [
    "**Q25:** Quelle proportion de points se trouve dans le disque de centre $(0;0)$ et de rayon 2 ? Comparer à la valeur théorique que l'on devrait obtenir à la suite d'un calcul de probabilité."
   ]
  },
  {
   "cell_type": "code",
   "execution_count": null,
   "metadata": {},
   "outputs": [],
   "source": [
    "..."
   ]
  },
  {
   "cell_type": "markdown",
   "metadata": {},
   "source": [
    "\n",
    "\n",
    "\n"
   ]
  },
  {
   "cell_type": "markdown",
   "metadata": {},
   "source": [
    "### 2.6 Simulation d'une loi géométrique"
   ]
  },
  {
   "cell_type": "markdown",
   "metadata": {},
   "source": [
    "On souhaite simuler une variable aléatoire suivant une loi géométrique $\\mathcal{G}(p)$. On propose ici 4 méthodes que l'on souhaite comparer.\n",
    "\n",
    "__Méthode 1 :__ Soit $X$ une variable aléatoire suivant une loi $\\mathcal{G}(p)$. Pour tout $i \\geq 1$, on pose $p_i=\\mathbb{P}(X=i)$, on tire une variable uniforme $U$ sur $[0;1]$ et on renvoie l'entier $k$ tel que $$p_1+...+p_{k-1} < U < p_1+...+p_{k}$$\n",
    "\n",
    "__Méthode 2 :__ On simule des variables aléatoires de Bernoulli de paramètre $p$ et on s'arrête à la première fois qu'on tombe sur 1.\n",
    "\n",
    "__Méthode 3 :__ Soit $X$ une variable aléatoire suivant une loi expontielle $\\mathcal{E}(1)$. On pose $\\lambda = - \\frac{1}{\\ln(1-p)}$ et on renvoie  $\\lceil \\lambda X\\rceil$ où $\\lceil x \\rceil$ désigne la partie entière par valeur supérieure de $x$, c'est-à-dire le plus petit entier $k$ tel que $k \\geq x$.\n",
    "\n",
    "__Méthode 4 :__ On utilise la fonction intégrée dans pylab appelée geometric."
   ]
  },
  {
   "cell_type": "markdown",
   "metadata": {},
   "source": [
    "**Q26:** Justifier que la méthode 1 donne le résultat escompté.\n"
   ]
  },
  {
   "cell_type": "markdown",
   "metadata": {},
   "source": [
    "\n",
    "\n",
    "\n",
    "\n",
    "\n",
    "\n",
    "\n"
   ]
  },
  {
   "cell_type": "markdown",
   "metadata": {},
   "source": [
    "**Q27:** Démontrer que la méthode 3 donne le résultat escompté."
   ]
  },
  {
   "cell_type": "markdown",
   "metadata": {},
   "source": [
    "\n",
    "\n",
    "\n",
    "\n",
    "\n",
    "\n",
    "\n",
    "\n",
    "\n",
    "\n"
   ]
  },
  {
   "cell_type": "markdown",
   "metadata": {},
   "source": [
    "**Q28:** Compléter le programme suivant permettant d'implémenter ces 4 méthodes. On pourra utiliser la fonction  ceil() intégrée à  python permettant de calculer $\\lceil x \\rceil$."
   ]
  },
  {
   "cell_type": "code",
   "execution_count": null,
   "metadata": {},
   "outputs": [],
   "source": [
    "def methode1(p):\n",
    "    k=...\n",
    "    ...\n",
    "    return k\n",
    "\n",
    "def methode2(p):\n",
    "    ...\n",
    "    return k\n",
    "\n",
    "def methode3(p):\n",
    "    ...\n",
    "    return ...\n",
    "\n",
    "def methode4(p):\n",
    "    return geometric(p)"
   ]
  },
  {
   "cell_type": "markdown",
   "metadata": {},
   "source": [
    "**Q29:** Afin de vérifier les programmes précédents, utiliser le programme suivant et interpréter le résultat. "
   ]
  },
  {
   "cell_type": "code",
   "execution_count": null,
   "metadata": {},
   "outputs": [],
   "source": [
    "p=0.1\n",
    "N=1000\n",
    "S=0\n",
    "for i in range(N):\n",
    "    S=S+methode1(p)\n",
    "print(S/N)"
   ]
  },
  {
   "cell_type": "markdown",
   "metadata": {},
   "source": [
    "<p style='color:#d50000'> On calcule la moyenne sur 1000 simulations et on trouve dans cet exemple 10.1, ce qui est proche de l'espérance d'une loi géométrique de paramètre $p$ car cette espérance vaut $\\frac{1}{p}$ qui vaut ici $10$.\n",
    "    </p>"
   ]
  },
  {
   "cell_type": "markdown",
   "metadata": {},
   "source": [
    "**Q30:** Comparer les temps d'exécution de chaque méthode."
   ]
  },
  {
   "cell_type": "code",
   "execution_count": null,
   "metadata": {},
   "outputs": [],
   "source": [
    "from time import time"
   ]
  },
  {
   "cell_type": "code",
   "execution_count": null,
   "metadata": {},
   "outputs": [],
   "source": [
    "N=10000\n",
    "p=0.1\n",
    "\n",
    "t1 = time()\n",
    "[methode1(p) for i in range(N)]\n",
    "t2 = time()\n",
    "temps1=t2-t1\n",
    "print(\"La méthode 1 a pris {} secondes\".format(temps1))"
   ]
  },
  {
   "cell_type": "code",
   "execution_count": null,
   "metadata": {},
   "outputs": [],
   "source": [
    "t1 = time()\n",
    "[methode2(p) for i in range(N)]\n",
    "t2 = time()\n",
    "temps2=t2-t1\n",
    "print(\"La méthode 2 a pris {} secondes\".format(temps2))"
   ]
  },
  {
   "cell_type": "code",
   "execution_count": null,
   "metadata": {},
   "outputs": [],
   "source": [
    "t1 = time()\n",
    "[methode3(p) for i in range(N)]\n",
    "t2 = time()\n",
    "temps3=t2-t1\n",
    "print(\"La méthode 3 a pris {} secondes\".format(temps3))"
   ]
  },
  {
   "cell_type": "code",
   "execution_count": null,
   "metadata": {},
   "outputs": [],
   "source": [
    "t1 = time()\n",
    "[methode4(p) for i in range(N)]\n",
    "t2 = time()\n",
    "temps4=t2-t1\n",
    "print(\"La méthode 4 a pris {} secondes\".format(temps4))"
   ]
  },
  {
   "cell_type": "markdown",
   "metadata": {},
   "source": [
    "## 3. Somme de variables aléatoires et produit de convolution"
   ]
  },
  {
   "cell_type": "markdown",
   "metadata": {},
   "source": [
    "On rappelle que le produit de convolution de deux fonctions réelles $f$ et $g$ est défini par \n",
    "$$ f \\star g (s) = \\int_{\\mathbb{R}} f(s-x)g(x)dx$$"
   ]
  },
  {
   "cell_type": "markdown",
   "metadata": {},
   "source": [
    "**Q31:** Calculer $f \\star f$ où $f$ est la fonction densité d'une loi normale centrée réduite. Que représente $f\\star f$ ?"
   ]
  },
  {
   "cell_type": "markdown",
   "metadata": {},
   "source": [
    "\n",
    "\n",
    "\n",
    "\n",
    "\n",
    "\n",
    "\n",
    "\n",
    "\n",
    "\n",
    "\n",
    "\n",
    "\n",
    "\n",
    "\n",
    "\n",
    "\n",
    "\n",
    "\n",
    "\n"
   ]
  },
  {
   "cell_type": "markdown",
   "metadata": {},
   "source": [
    "**Q32:** Représenter graphiquement ce résultat."
   ]
  },
  {
   "cell_type": "code",
   "execution_count": null,
   "metadata": {},
   "outputs": [],
   "source": [
    "max = +8\n",
    "dx = 1e-3\n",
    "grid = arange(-max,max,dx)"
   ]
  },
  {
   "cell_type": "code",
   "execution_count": null,
   "metadata": {},
   "outputs": [],
   "source": [
    "from scipy.signal import fftconvolve"
   ]
  },
  {
   "cell_type": "code",
   "execution_count": null,
   "metadata": {},
   "outputs": [],
   "source": [
    "pmf = [dnormale(x,0,1)*dx for x in grid] # probability mass function\n",
    "pdf = array(pmf)/dx             #probability density function\n",
    "conv_pmf = fftconvolve(pmf,pmf,'same')\n",
    "conv_pdf = (array(conv_pmf)/dx)"
   ]
  },
  {
   "cell_type": "code",
   "execution_count": null,
   "metadata": {},
   "outputs": [],
   "source": [
    "plot(grid,pdf,linewidth=4)\n",
    "plot(grid,conv_pdf,linewidth=4,color=\"green\")\n",
    "\n",
    "legend(['densité f','densité $f\\star f$'])\n",
    "show()"
   ]
  },
  {
   "cell_type": "markdown",
   "metadata": {},
   "source": [
    "**Q33:** Représenter graphiquement la loi de chaque variable $X_1+...+X_k$ pour $k \\in \\{2;6\\}$ où les variables $X_i$ sont i.i.d. selon une loi uniforme sur $[-1;1]$."
   ]
  },
  {
   "cell_type": "code",
   "execution_count": null,
   "metadata": {},
   "outputs": [],
   "source": [
    "pmf = [duniforme(x,-1,1)*dx for x in grid] # probability mass function\n",
    "pdf = array(pmf)/dx\n",
    "conv_pmf=[pmf]\n",
    "conv_pdf=[pdf]\n",
    "N=...\n",
    "for i in range(N):\n",
    "    conv = fftconvolve(conv_pmf[-1],pmf,'same')\n",
    "    conv_pmf.append(conv)\n",
    "    conv_pdf.append(array(conv/dx))"
   ]
  },
  {
   "cell_type": "code",
   "execution_count": null,
   "metadata": {},
   "outputs": [],
   "source": [
    "for i in range(N+1):\n",
    "    plot(grid,conv_pdf[i],linewidth=4)"
   ]
  },
  {
   "cell_type": "markdown",
   "metadata": {},
   "source": [
    "\n",
    "\n",
    "\n",
    "\n",
    "\n"
   ]
  },
  {
   "cell_type": "code",
   "execution_count": null,
   "metadata": {},
   "outputs": [],
   "source": []
  }
 ],
 "metadata": {
  "kernelspec": {
   "display_name": "Python 3",
   "language": "python",
   "name": "python3"
  },
  "language_info": {
   "codemirror_mode": {
    "name": "ipython",
    "version": 3
   },
   "file_extension": ".py",
   "mimetype": "text/x-python",
   "name": "python",
   "nbconvert_exporter": "python",
   "pygments_lexer": "ipython3",
   "version": "3.7.4"
  }
 },
 "nbformat": 4,
 "nbformat_minor": 1
}
